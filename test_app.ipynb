{
  "nbformat": 4,
  "nbformat_minor": 0,
  "metadata": {
    "colab": {
      "name": "test_app.ipynb",
      "provenance": [],
      "mount_file_id": "1YVZ8xizwrQxOL0jvnPqf4rBSWrRWqK39",
      "authorship_tag": "ABX9TyMmsFnJ43UTv88xl7d0lxI3",
      "include_colab_link": true
    },
    "kernelspec": {
      "name": "python3",
      "display_name": "Python 3"
    },
    "widgets": {
      "application/vnd.jupyter.widget-state+json": {
        "594d71711b7646779f1b8c49604fb00d": {
          "model_module": "@jupyter-widgets/controls",
          "model_name": "FileUploadModel",
          "state": {
            "_view_name": "FileUploadView",
            "_counter": 2,
            "style": "IPY_MODEL_5a47d379cd7248e49d44c6d61b45add9",
            "_dom_classes": [],
            "description": "Upload",
            "multiple": false,
            "_model_name": "FileUploadModel",
            "data": [
              null
            ],
            "button_style": "",
            "_view_module": "@jupyter-widgets/controls",
            "_model_module_version": "1.5.0",
            "accept": "",
            "_view_count": null,
            "disabled": false,
            "_view_module_version": "1.5.0",
            "error": "",
            "description_tooltip": null,
            "metadata": [
              {
                "name": "photo_2020-08-20_00-42-58.jpg",
                "type": "image/jpeg",
                "size": 187277,
                "lastModified": 1597876978491
              }
            ],
            "_model_module": "@jupyter-widgets/controls",
            "layout": "IPY_MODEL_e223ef5449454a0f829018123f4fbc1a",
            "icon": "upload"
          }
        },
        "5a47d379cd7248e49d44c6d61b45add9": {
          "model_module": "@jupyter-widgets/controls",
          "model_name": "ButtonStyleModel",
          "state": {
            "_view_name": "StyleView",
            "_model_name": "ButtonStyleModel",
            "_view_module": "@jupyter-widgets/base",
            "_model_module_version": "1.5.0",
            "_view_count": null,
            "button_color": null,
            "font_weight": "",
            "_view_module_version": "1.2.0",
            "_model_module": "@jupyter-widgets/controls"
          }
        },
        "e223ef5449454a0f829018123f4fbc1a": {
          "model_module": "@jupyter-widgets/base",
          "model_name": "LayoutModel",
          "state": {
            "_view_name": "LayoutView",
            "grid_template_rows": null,
            "right": null,
            "justify_content": null,
            "_view_module": "@jupyter-widgets/base",
            "overflow": null,
            "_model_module_version": "1.2.0",
            "_view_count": null,
            "flex_flow": null,
            "width": null,
            "min_width": null,
            "border": null,
            "align_items": null,
            "bottom": null,
            "_model_module": "@jupyter-widgets/base",
            "top": null,
            "grid_column": null,
            "overflow_y": null,
            "overflow_x": null,
            "grid_auto_flow": null,
            "grid_area": null,
            "grid_template_columns": null,
            "flex": null,
            "_model_name": "LayoutModel",
            "justify_items": null,
            "grid_row": null,
            "max_height": null,
            "align_content": null,
            "visibility": null,
            "align_self": null,
            "height": null,
            "min_height": null,
            "padding": null,
            "grid_auto_rows": null,
            "grid_gap": null,
            "max_width": null,
            "order": null,
            "_view_module_version": "1.2.0",
            "grid_template_areas": null,
            "object_position": null,
            "object_fit": null,
            "grid_auto_columns": null,
            "margin": null,
            "display": null,
            "left": null
          }
        },
        "104768ef66414fd4ae1be2126cb3ad49": {
          "model_module": "@jupyter-widgets/output",
          "model_name": "OutputModel",
          "state": {
            "_view_name": "OutputView",
            "msg_id": "",
            "_dom_classes": [],
            "_model_name": "OutputModel",
            "outputs": [
              {
                "output_type": "display_data",
                "metadata": {
                  "tags": []
                },
                "image/png": "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\n",
                "text/plain": "<PIL.Image.Image image mode=RGB size=96x128 at 0x7FA1A94AD860>"
              }
            ],
            "_view_module": "@jupyter-widgets/output",
            "_model_module_version": "1.0.0",
            "_view_count": null,
            "_view_module_version": "1.0.0",
            "layout": "IPY_MODEL_c90464d862b947309a8f0295770a9ad2",
            "_model_module": "@jupyter-widgets/output"
          }
        },
        "c90464d862b947309a8f0295770a9ad2": {
          "model_module": "@jupyter-widgets/base",
          "model_name": "LayoutModel",
          "state": {
            "_view_name": "LayoutView",
            "grid_template_rows": null,
            "right": null,
            "justify_content": null,
            "_view_module": "@jupyter-widgets/base",
            "overflow": null,
            "_model_module_version": "1.2.0",
            "_view_count": null,
            "flex_flow": null,
            "width": null,
            "min_width": null,
            "border": null,
            "align_items": null,
            "bottom": null,
            "_model_module": "@jupyter-widgets/base",
            "top": null,
            "grid_column": null,
            "overflow_y": null,
            "overflow_x": null,
            "grid_auto_flow": null,
            "grid_area": null,
            "grid_template_columns": null,
            "flex": null,
            "_model_name": "LayoutModel",
            "justify_items": null,
            "grid_row": null,
            "max_height": null,
            "align_content": null,
            "visibility": null,
            "align_self": null,
            "height": null,
            "min_height": null,
            "padding": null,
            "grid_auto_rows": null,
            "grid_gap": null,
            "max_width": null,
            "order": null,
            "_view_module_version": "1.2.0",
            "grid_template_areas": null,
            "object_position": null,
            "object_fit": null,
            "grid_auto_columns": null,
            "margin": null,
            "display": null,
            "left": null
          }
        },
        "27b55ded68ee44458076d78e8e1c5c90": {
          "model_module": "@jupyter-widgets/controls",
          "model_name": "LabelModel",
          "state": {
            "_view_name": "LabelView",
            "style": "IPY_MODEL_bf0e075971a24a209da5c0481fa0e468",
            "_dom_classes": [],
            "description": "",
            "_model_name": "LabelModel",
            "placeholder": "​",
            "_view_module": "@jupyter-widgets/controls",
            "_model_module_version": "1.5.0",
            "value": "Prediction: Saint Bernard; Probability: 0.7947",
            "_view_count": null,
            "_view_module_version": "1.5.0",
            "description_tooltip": null,
            "_model_module": "@jupyter-widgets/controls",
            "layout": "IPY_MODEL_10116f62abdc4695a62d77ff86a48253"
          }
        },
        "bf0e075971a24a209da5c0481fa0e468": {
          "model_module": "@jupyter-widgets/controls",
          "model_name": "DescriptionStyleModel",
          "state": {
            "_view_name": "StyleView",
            "_model_name": "DescriptionStyleModel",
            "description_width": "",
            "_view_module": "@jupyter-widgets/base",
            "_model_module_version": "1.5.0",
            "_view_count": null,
            "_view_module_version": "1.2.0",
            "_model_module": "@jupyter-widgets/controls"
          }
        },
        "10116f62abdc4695a62d77ff86a48253": {
          "model_module": "@jupyter-widgets/base",
          "model_name": "LayoutModel",
          "state": {
            "_view_name": "LayoutView",
            "grid_template_rows": null,
            "right": null,
            "justify_content": null,
            "_view_module": "@jupyter-widgets/base",
            "overflow": null,
            "_model_module_version": "1.2.0",
            "_view_count": null,
            "flex_flow": null,
            "width": null,
            "min_width": null,
            "border": null,
            "align_items": null,
            "bottom": null,
            "_model_module": "@jupyter-widgets/base",
            "top": null,
            "grid_column": null,
            "overflow_y": null,
            "overflow_x": null,
            "grid_auto_flow": null,
            "grid_area": null,
            "grid_template_columns": null,
            "flex": null,
            "_model_name": "LayoutModel",
            "justify_items": null,
            "grid_row": null,
            "max_height": null,
            "align_content": null,
            "visibility": null,
            "align_self": null,
            "height": null,
            "min_height": null,
            "padding": null,
            "grid_auto_rows": null,
            "grid_gap": null,
            "max_width": null,
            "order": null,
            "_view_module_version": "1.2.0",
            "grid_template_areas": null,
            "object_position": null,
            "object_fit": null,
            "grid_auto_columns": null,
            "margin": null,
            "display": null,
            "left": null
          }
        },
        "b00af4064e984763b1379c9ab181a702": {
          "model_module": "@jupyter-widgets/controls",
          "model_name": "ButtonModel",
          "state": {
            "_view_name": "ButtonView",
            "style": "IPY_MODEL_f145028738394b8eb175b32466583771",
            "_dom_classes": [],
            "description": "Classify",
            "_model_name": "ButtonModel",
            "button_style": "",
            "_view_module": "@jupyter-widgets/controls",
            "_model_module_version": "1.5.0",
            "tooltip": "",
            "_view_count": null,
            "disabled": false,
            "_view_module_version": "1.5.0",
            "layout": "IPY_MODEL_2c68185264404a63bb0d8982c7cd36dc",
            "_model_module": "@jupyter-widgets/controls",
            "icon": ""
          }
        },
        "f145028738394b8eb175b32466583771": {
          "model_module": "@jupyter-widgets/controls",
          "model_name": "ButtonStyleModel",
          "state": {
            "_view_name": "StyleView",
            "_model_name": "ButtonStyleModel",
            "_view_module": "@jupyter-widgets/base",
            "_model_module_version": "1.5.0",
            "_view_count": null,
            "button_color": null,
            "font_weight": "",
            "_view_module_version": "1.2.0",
            "_model_module": "@jupyter-widgets/controls"
          }
        },
        "2c68185264404a63bb0d8982c7cd36dc": {
          "model_module": "@jupyter-widgets/base",
          "model_name": "LayoutModel",
          "state": {
            "_view_name": "LayoutView",
            "grid_template_rows": null,
            "right": null,
            "justify_content": null,
            "_view_module": "@jupyter-widgets/base",
            "overflow": null,
            "_model_module_version": "1.2.0",
            "_view_count": null,
            "flex_flow": null,
            "width": null,
            "min_width": null,
            "border": null,
            "align_items": null,
            "bottom": null,
            "_model_module": "@jupyter-widgets/base",
            "top": null,
            "grid_column": null,
            "overflow_y": null,
            "overflow_x": null,
            "grid_auto_flow": null,
            "grid_area": null,
            "grid_template_columns": null,
            "flex": null,
            "_model_name": "LayoutModel",
            "justify_items": null,
            "grid_row": null,
            "max_height": null,
            "align_content": null,
            "visibility": null,
            "align_self": null,
            "height": null,
            "min_height": null,
            "padding": null,
            "grid_auto_rows": null,
            "grid_gap": null,
            "max_width": null,
            "order": null,
            "_view_module_version": "1.2.0",
            "grid_template_areas": null,
            "object_position": null,
            "object_fit": null,
            "grid_auto_columns": null,
            "margin": null,
            "display": null,
            "left": null
          }
        },
        "41d26e579de14cd794f6a3cdf58a7588": {
          "model_module": "@jupyter-widgets/controls",
          "model_name": "VBoxModel",
          "state": {
            "_view_name": "VBoxView",
            "_dom_classes": [],
            "_model_name": "VBoxModel",
            "_view_module": "@jupyter-widgets/controls",
            "_model_module_version": "1.5.0",
            "_view_count": null,
            "_view_module_version": "1.5.0",
            "box_style": "",
            "layout": "IPY_MODEL_112debf38d3348848cc54fec3f95b242",
            "_model_module": "@jupyter-widgets/controls",
            "children": [
              "IPY_MODEL_5718f5cec9cb458496b86db554c44db5",
              "IPY_MODEL_d86d25ea367f4451b4e875e99e378f3e",
              "IPY_MODEL_b00af4064e984763b1379c9ab181a702",
              "IPY_MODEL_104768ef66414fd4ae1be2126cb3ad49",
              "IPY_MODEL_27b55ded68ee44458076d78e8e1c5c90"
            ]
          }
        },
        "112debf38d3348848cc54fec3f95b242": {
          "model_module": "@jupyter-widgets/base",
          "model_name": "LayoutModel",
          "state": {
            "_view_name": "LayoutView",
            "grid_template_rows": null,
            "right": null,
            "justify_content": null,
            "_view_module": "@jupyter-widgets/base",
            "overflow": null,
            "_model_module_version": "1.2.0",
            "_view_count": null,
            "flex_flow": null,
            "width": null,
            "min_width": null,
            "border": null,
            "align_items": null,
            "bottom": null,
            "_model_module": "@jupyter-widgets/base",
            "top": null,
            "grid_column": null,
            "overflow_y": null,
            "overflow_x": null,
            "grid_auto_flow": null,
            "grid_area": null,
            "grid_template_columns": null,
            "flex": null,
            "_model_name": "LayoutModel",
            "justify_items": null,
            "grid_row": null,
            "max_height": null,
            "align_content": null,
            "visibility": null,
            "align_self": null,
            "height": null,
            "min_height": null,
            "padding": null,
            "grid_auto_rows": null,
            "grid_gap": null,
            "max_width": null,
            "order": null,
            "_view_module_version": "1.2.0",
            "grid_template_areas": null,
            "object_position": null,
            "object_fit": null,
            "grid_auto_columns": null,
            "margin": null,
            "display": null,
            "left": null
          }
        },
        "5718f5cec9cb458496b86db554c44db5": {
          "model_module": "@jupyter-widgets/controls",
          "model_name": "LabelModel",
          "state": {
            "_view_name": "LabelView",
            "style": "IPY_MODEL_c9f87eec89634a198d42cd46ffc07c83",
            "_dom_classes": [],
            "description": "",
            "_model_name": "LabelModel",
            "placeholder": "​",
            "_view_module": "@jupyter-widgets/controls",
            "_model_module_version": "1.5.0",
            "value": "Select your pet!",
            "_view_count": null,
            "_view_module_version": "1.5.0",
            "description_tooltip": null,
            "_model_module": "@jupyter-widgets/controls",
            "layout": "IPY_MODEL_ca0699c1c7bd484596217277ddb4e767"
          }
        },
        "d86d25ea367f4451b4e875e99e378f3e": {
          "model_module": "@jupyter-widgets/controls",
          "model_name": "FileUploadModel",
          "state": {
            "_view_name": "FileUploadView",
            "_counter": 4,
            "style": "IPY_MODEL_f40b1cc64ae4429a8e0cc02ce35e1b23",
            "_dom_classes": [],
            "description": "Upload",
            "multiple": false,
            "_model_name": "FileUploadModel",
            "data": [
              null
            ],
            "button_style": "",
            "_view_module": "@jupyter-widgets/controls",
            "_model_module_version": "1.5.0",
            "accept": "",
            "_view_count": null,
            "disabled": false,
            "_view_module_version": "1.5.0",
            "error": "",
            "description_tooltip": null,
            "metadata": [
              {
                "name": "photo_2020-08-20_00-43-01.jpg",
                "type": "image/jpeg",
                "size": 302319,
                "lastModified": 1597876981708
              }
            ],
            "_model_module": "@jupyter-widgets/controls",
            "layout": "IPY_MODEL_6d17748ee64b4510aff2a6205793745a",
            "icon": "upload"
          }
        },
        "c9f87eec89634a198d42cd46ffc07c83": {
          "model_module": "@jupyter-widgets/controls",
          "model_name": "DescriptionStyleModel",
          "state": {
            "_view_name": "StyleView",
            "_model_name": "DescriptionStyleModel",
            "description_width": "",
            "_view_module": "@jupyter-widgets/base",
            "_model_module_version": "1.5.0",
            "_view_count": null,
            "_view_module_version": "1.2.0",
            "_model_module": "@jupyter-widgets/controls"
          }
        },
        "ca0699c1c7bd484596217277ddb4e767": {
          "model_module": "@jupyter-widgets/base",
          "model_name": "LayoutModel",
          "state": {
            "_view_name": "LayoutView",
            "grid_template_rows": null,
            "right": null,
            "justify_content": null,
            "_view_module": "@jupyter-widgets/base",
            "overflow": null,
            "_model_module_version": "1.2.0",
            "_view_count": null,
            "flex_flow": null,
            "width": null,
            "min_width": null,
            "border": null,
            "align_items": null,
            "bottom": null,
            "_model_module": "@jupyter-widgets/base",
            "top": null,
            "grid_column": null,
            "overflow_y": null,
            "overflow_x": null,
            "grid_auto_flow": null,
            "grid_area": null,
            "grid_template_columns": null,
            "flex": null,
            "_model_name": "LayoutModel",
            "justify_items": null,
            "grid_row": null,
            "max_height": null,
            "align_content": null,
            "visibility": null,
            "align_self": null,
            "height": null,
            "min_height": null,
            "padding": null,
            "grid_auto_rows": null,
            "grid_gap": null,
            "max_width": null,
            "order": null,
            "_view_module_version": "1.2.0",
            "grid_template_areas": null,
            "object_position": null,
            "object_fit": null,
            "grid_auto_columns": null,
            "margin": null,
            "display": null,
            "left": null
          }
        },
        "f40b1cc64ae4429a8e0cc02ce35e1b23": {
          "model_module": "@jupyter-widgets/controls",
          "model_name": "ButtonStyleModel",
          "state": {
            "_view_name": "StyleView",
            "_model_name": "ButtonStyleModel",
            "_view_module": "@jupyter-widgets/base",
            "_model_module_version": "1.5.0",
            "_view_count": null,
            "button_color": null,
            "font_weight": "",
            "_view_module_version": "1.2.0",
            "_model_module": "@jupyter-widgets/controls"
          }
        },
        "6d17748ee64b4510aff2a6205793745a": {
          "model_module": "@jupyter-widgets/base",
          "model_name": "LayoutModel",
          "state": {
            "_view_name": "LayoutView",
            "grid_template_rows": null,
            "right": null,
            "justify_content": null,
            "_view_module": "@jupyter-widgets/base",
            "overflow": null,
            "_model_module_version": "1.2.0",
            "_view_count": null,
            "flex_flow": null,
            "width": null,
            "min_width": null,
            "border": null,
            "align_items": null,
            "bottom": null,
            "_model_module": "@jupyter-widgets/base",
            "top": null,
            "grid_column": null,
            "overflow_y": null,
            "overflow_x": null,
            "grid_auto_flow": null,
            "grid_area": null,
            "grid_template_columns": null,
            "flex": null,
            "_model_name": "LayoutModel",
            "justify_items": null,
            "grid_row": null,
            "max_height": null,
            "align_content": null,
            "visibility": null,
            "align_self": null,
            "height": null,
            "min_height": null,
            "padding": null,
            "grid_auto_rows": null,
            "grid_gap": null,
            "max_width": null,
            "order": null,
            "_view_module_version": "1.2.0",
            "grid_template_areas": null,
            "object_position": null,
            "object_fit": null,
            "grid_auto_columns": null,
            "margin": null,
            "display": null,
            "left": null
          }
        }
      }
    }
  },
  "cells": [
    {
      "cell_type": "markdown",
      "metadata": {
        "id": "view-in-github",
        "colab_type": "text"
      },
      "source": [
        "<a href=\"https://colab.research.google.com/github/jclock98/class_cat_dog/blob/master/test_app.ipynb\" target=\"_parent\"><img src=\"https://colab.research.google.com/assets/colab-badge.svg\" alt=\"Open In Colab\"/></a>"
      ]
    },
    {
      "cell_type": "code",
      "metadata": {
        "id": "q5_KGJiM0zyC",
        "colab_type": "code",
        "colab": {
          "base_uri": "https://localhost:8080/",
          "height": 904
        },
        "outputId": "13c67f02-0b0d-41ff-c2b2-fe9e9d81779b"
      },
      "source": [
        "!pip install utils\n",
        "!pip install fastai2"
      ],
      "execution_count": 4,
      "outputs": [
        {
          "output_type": "stream",
          "text": [
            "Collecting utils\n",
            "  Downloading https://files.pythonhosted.org/packages/55/e6/c2d2b2703e7debc8b501caae0e6f7ead148fd0faa3c8131292a599930029/utils-1.0.1-py2.py3-none-any.whl\n",
            "Installing collected packages: utils\n",
            "Successfully installed utils-1.0.1\n",
            "Collecting fastai2\n",
            "\u001b[?25l  Downloading https://files.pythonhosted.org/packages/cc/50/2f37212be57b7ee3e9c947336f75a66724468b21a3ca68734eaa82e7ebf3/fastai2-0.0.30-py3-none-any.whl (179kB)\n",
            "\u001b[K     |████████████████████████████████| 184kB 7.9MB/s \n",
            "\u001b[?25hRequirement already satisfied: pip in /usr/local/lib/python3.6/dist-packages (from fastai2) (19.3.1)\n",
            "Requirement already satisfied: packaging in /usr/local/lib/python3.6/dist-packages (from fastai2) (20.4)\n",
            "Collecting fastcore>=0.1.34\n",
            "  Downloading https://files.pythonhosted.org/packages/fa/2d/977648ad8b01b557ca925da006b9a8ec713008b0a450413aac75612e71d5/fastcore-0.1.38-py3-none-any.whl\n",
            "Requirement already satisfied: pyyaml in /usr/local/lib/python3.6/dist-packages (from fastai2) (3.13)\n",
            "Requirement already satisfied: torchvision>=0.7 in /usr/local/lib/python3.6/dist-packages (from fastai2) (0.7.0+cu101)\n",
            "Requirement already satisfied: matplotlib in /usr/local/lib/python3.6/dist-packages (from fastai2) (3.2.2)\n",
            "Requirement already satisfied: requests in /usr/local/lib/python3.6/dist-packages (from fastai2) (2.23.0)\n",
            "Requirement already satisfied: pillow in /usr/local/lib/python3.6/dist-packages (from fastai2) (7.0.0)\n",
            "Requirement already satisfied: scipy in /usr/local/lib/python3.6/dist-packages (from fastai2) (1.4.1)\n",
            "Requirement already satisfied: spacy in /usr/local/lib/python3.6/dist-packages (from fastai2) (2.2.4)\n",
            "Requirement already satisfied: torch>=1.6.0 in /usr/local/lib/python3.6/dist-packages (from fastai2) (1.6.0+cu101)\n",
            "Requirement already satisfied: pandas in /usr/local/lib/python3.6/dist-packages (from fastai2) (1.0.5)\n",
            "Requirement already satisfied: scikit-learn in /usr/local/lib/python3.6/dist-packages (from fastai2) (0.22.2.post1)\n",
            "Requirement already satisfied: fastprogress>=0.2.4 in /usr/local/lib/python3.6/dist-packages (from fastai2) (0.2.5)\n",
            "Requirement already satisfied: pyparsing>=2.0.2 in /usr/local/lib/python3.6/dist-packages (from packaging->fastai2) (2.4.7)\n",
            "Requirement already satisfied: six in /usr/local/lib/python3.6/dist-packages (from packaging->fastai2) (1.15.0)\n",
            "Requirement already satisfied: numpy in /usr/local/lib/python3.6/dist-packages (from fastcore>=0.1.34->fastai2) (1.18.5)\n",
            "Requirement already satisfied: dataclasses in /usr/local/lib/python3.6/dist-packages (from fastcore>=0.1.34->fastai2) (0.7)\n",
            "Requirement already satisfied: python-dateutil>=2.1 in /usr/local/lib/python3.6/dist-packages (from matplotlib->fastai2) (2.8.1)\n",
            "Requirement already satisfied: kiwisolver>=1.0.1 in /usr/local/lib/python3.6/dist-packages (from matplotlib->fastai2) (1.2.0)\n",
            "Requirement already satisfied: cycler>=0.10 in /usr/local/lib/python3.6/dist-packages (from matplotlib->fastai2) (0.10.0)\n",
            "Requirement already satisfied: chardet<4,>=3.0.2 in /usr/local/lib/python3.6/dist-packages (from requests->fastai2) (3.0.4)\n",
            "Requirement already satisfied: certifi>=2017.4.17 in /usr/local/lib/python3.6/dist-packages (from requests->fastai2) (2020.6.20)\n",
            "Requirement already satisfied: urllib3!=1.25.0,!=1.25.1,<1.26,>=1.21.1 in /usr/local/lib/python3.6/dist-packages (from requests->fastai2) (1.24.3)\n",
            "Requirement already satisfied: idna<3,>=2.5 in /usr/local/lib/python3.6/dist-packages (from requests->fastai2) (2.10)\n",
            "Requirement already satisfied: srsly<1.1.0,>=1.0.2 in /usr/local/lib/python3.6/dist-packages (from spacy->fastai2) (1.0.2)\n",
            "Requirement already satisfied: blis<0.5.0,>=0.4.0 in /usr/local/lib/python3.6/dist-packages (from spacy->fastai2) (0.4.1)\n",
            "Requirement already satisfied: thinc==7.4.0 in /usr/local/lib/python3.6/dist-packages (from spacy->fastai2) (7.4.0)\n",
            "Requirement already satisfied: preshed<3.1.0,>=3.0.2 in /usr/local/lib/python3.6/dist-packages (from spacy->fastai2) (3.0.2)\n",
            "Requirement already satisfied: cymem<2.1.0,>=2.0.2 in /usr/local/lib/python3.6/dist-packages (from spacy->fastai2) (2.0.3)\n",
            "Requirement already satisfied: wasabi<1.1.0,>=0.4.0 in /usr/local/lib/python3.6/dist-packages (from spacy->fastai2) (0.7.1)\n",
            "Requirement already satisfied: catalogue<1.1.0,>=0.0.7 in /usr/local/lib/python3.6/dist-packages (from spacy->fastai2) (1.0.0)\n",
            "Requirement already satisfied: tqdm<5.0.0,>=4.38.0 in /usr/local/lib/python3.6/dist-packages (from spacy->fastai2) (4.41.1)\n",
            "Requirement already satisfied: murmurhash<1.1.0,>=0.28.0 in /usr/local/lib/python3.6/dist-packages (from spacy->fastai2) (1.0.2)\n",
            "Requirement already satisfied: setuptools in /usr/local/lib/python3.6/dist-packages (from spacy->fastai2) (49.2.0)\n",
            "Requirement already satisfied: plac<1.2.0,>=0.9.6 in /usr/local/lib/python3.6/dist-packages (from spacy->fastai2) (1.1.3)\n",
            "Requirement already satisfied: future in /usr/local/lib/python3.6/dist-packages (from torch>=1.6.0->fastai2) (0.16.0)\n",
            "Requirement already satisfied: pytz>=2017.2 in /usr/local/lib/python3.6/dist-packages (from pandas->fastai2) (2018.9)\n",
            "Requirement already satisfied: joblib>=0.11 in /usr/local/lib/python3.6/dist-packages (from scikit-learn->fastai2) (0.16.0)\n",
            "Requirement already satisfied: importlib-metadata>=0.20; python_version < \"3.8\" in /usr/local/lib/python3.6/dist-packages (from catalogue<1.1.0,>=0.0.7->spacy->fastai2) (1.7.0)\n",
            "Requirement already satisfied: zipp>=0.5 in /usr/local/lib/python3.6/dist-packages (from importlib-metadata>=0.20; python_version < \"3.8\"->catalogue<1.1.0,>=0.0.7->spacy->fastai2) (3.1.0)\n",
            "Installing collected packages: fastcore, fastai2\n",
            "Successfully installed fastai2-0.0.30 fastcore-0.1.38\n"
          ],
          "name": "stdout"
        }
      ]
    },
    {
      "cell_type": "code",
      "metadata": {
        "id": "WU5rnPxX0tcA",
        "colab_type": "code",
        "colab": {}
      },
      "source": [
        "from utils import *\n",
        "from fastai2.vision.all import *"
      ],
      "execution_count": 5,
      "outputs": []
    },
    {
      "cell_type": "code",
      "metadata": {
        "id": "v-UN3YgZwT2D",
        "colab_type": "code",
        "colab": {
          "base_uri": "https://localhost:8080/",
          "height": 34
        },
        "outputId": "0e528e9c-9b59-40b1-a027-c2cef1cca015"
      },
      "source": [
        "path = Path('/content/drive/My Drive/Cat_dog_class')\n",
        "path.ls(file_exts='.pkl')"
      ],
      "execution_count": 6,
      "outputs": [
        {
          "output_type": "execute_result",
          "data": {
            "text/plain": [
              "(#1) [Path('/content/drive/My Drive/Cat_dog_class/export.pkl')]"
            ]
          },
          "metadata": {
            "tags": []
          },
          "execution_count": 6
        }
      ]
    },
    {
      "cell_type": "code",
      "metadata": {
        "id": "F645pMV20bTz",
        "colab_type": "code",
        "colab": {}
      },
      "source": [
        "learn = load_learner(path/'export.pkl')"
      ],
      "execution_count": 7,
      "outputs": []
    },
    {
      "cell_type": "code",
      "metadata": {
        "id": "tgC2W2Xj0lVE",
        "colab_type": "code",
        "colab": {
          "base_uri": "https://localhost:8080/",
          "height": 54
        },
        "outputId": "421af339-b3bc-4354-a275-37d9e7ef7434"
      },
      "source": [
        "learn.dls.vocab"
      ],
      "execution_count": 8,
      "outputs": [
        {
          "output_type": "execute_result",
          "data": {
            "text/plain": [
              "(#37) ['Abyssinian','American Bulldog','American Pit Bull Terrier','Basset Hound','Beagle','Bengal','Birman','Bombay','Boxer','British Shorthair'...]"
            ]
          },
          "metadata": {
            "tags": []
          },
          "execution_count": 8
        }
      ]
    },
    {
      "cell_type": "code",
      "metadata": {
        "id": "AJbR2WhX1r4R",
        "colab_type": "code",
        "colab": {}
      },
      "source": [
        "from ipywidgets import *"
      ],
      "execution_count": 12,
      "outputs": []
    },
    {
      "cell_type": "code",
      "metadata": {
        "id": "XhsbQpyx1OeI",
        "colab_type": "code",
        "colab": {
          "base_uri": "https://localhost:8080/",
          "height": 49,
          "referenced_widgets": [
            "594d71711b7646779f1b8c49604fb00d",
            "5a47d379cd7248e49d44c6d61b45add9",
            "e223ef5449454a0f829018123f4fbc1a"
          ]
        },
        "outputId": "b9f88331-94cd-4854-d282-1f237f1192fe"
      },
      "source": [
        "btn_upload = widgets.FileUpload()\n",
        "btn_upload"
      ],
      "execution_count": 13,
      "outputs": [
        {
          "output_type": "display_data",
          "data": {
            "application/vnd.jupyter.widget-view+json": {
              "model_id": "594d71711b7646779f1b8c49604fb00d",
              "version_minor": 0,
              "version_major": 2
            },
            "text/plain": [
              "FileUpload(value={}, description='Upload')"
            ]
          },
          "metadata": {
            "tags": []
          }
        }
      ]
    },
    {
      "cell_type": "code",
      "metadata": {
        "id": "wZ5QzQ5e1Y95",
        "colab_type": "code",
        "colab": {}
      },
      "source": [
        "img = PILImage.create(btn_upload.data[-1])"
      ],
      "execution_count": 20,
      "outputs": []
    },
    {
      "cell_type": "code",
      "metadata": {
        "id": "BR6ajXjS2Qgt",
        "colab_type": "code",
        "colab": {
          "base_uri": "https://localhost:8080/",
          "height": 145,
          "referenced_widgets": [
            "104768ef66414fd4ae1be2126cb3ad49",
            "c90464d862b947309a8f0295770a9ad2"
          ]
        },
        "outputId": "749ae348-9e15-41c0-f20b-8b3ef03d8eec"
      },
      "source": [
        "out_pl = widgets.Output()\n",
        "out_pl.clear_output()\n",
        "with out_pl: display(img.to_thumb(128,128))\n",
        "out_pl"
      ],
      "execution_count": 21,
      "outputs": [
        {
          "output_type": "display_data",
          "data": {
            "application/vnd.jupyter.widget-view+json": {
              "model_id": "104768ef66414fd4ae1be2126cb3ad49",
              "version_minor": 0,
              "version_major": 2
            },
            "text/plain": [
              "Output()"
            ]
          },
          "metadata": {
            "tags": []
          }
        }
      ]
    },
    {
      "cell_type": "code",
      "metadata": {
        "id": "TdohIWmI5RRo",
        "colab_type": "code",
        "colab": {
          "base_uri": "https://localhost:8080/",
          "height": 17
        },
        "outputId": "4427914d-fc02-401a-a51e-78ab9f244c17"
      },
      "source": [
        "pred,pred_idx,probs = learn.predict(img)"
      ],
      "execution_count": 23,
      "outputs": [
        {
          "output_type": "display_data",
          "data": {
            "text/html": [
              ""
            ],
            "text/plain": [
              "<IPython.core.display.HTML object>"
            ]
          },
          "metadata": {
            "tags": []
          }
        }
      ]
    },
    {
      "cell_type": "code",
      "metadata": {
        "id": "Z3RIWzUJ5Ucq",
        "colab_type": "code",
        "colab": {
          "base_uri": "https://localhost:8080/",
          "height": 49,
          "referenced_widgets": [
            "27b55ded68ee44458076d78e8e1c5c90",
            "bf0e075971a24a209da5c0481fa0e468",
            "10116f62abdc4695a62d77ff86a48253"
          ]
        },
        "outputId": "4da71433-87d0-4d2b-b065-15aff160a76a"
      },
      "source": [
        "lbl_pred = widgets.Label()\n",
        "lbl_pred.value = f'Prediction: {pred}; Probability: {probs[pred_idx]:.04f}'\n",
        "lbl_pred"
      ],
      "execution_count": 24,
      "outputs": [
        {
          "output_type": "display_data",
          "data": {
            "application/vnd.jupyter.widget-view+json": {
              "model_id": "27b55ded68ee44458076d78e8e1c5c90",
              "version_minor": 0,
              "version_major": 2
            },
            "text/plain": [
              "Label(value='Prediction: Saint Bernard; Probability: 0.9722')"
            ]
          },
          "metadata": {
            "tags": []
          }
        }
      ]
    },
    {
      "cell_type": "code",
      "metadata": {
        "id": "qsqk1fkM5aqk",
        "colab_type": "code",
        "colab": {
          "base_uri": "https://localhost:8080/",
          "height": 49,
          "referenced_widgets": [
            "b00af4064e984763b1379c9ab181a702",
            "f145028738394b8eb175b32466583771",
            "2c68185264404a63bb0d8982c7cd36dc"
          ]
        },
        "outputId": "f88e1580-b870-4000-80ca-2fb890b36c26"
      },
      "source": [
        "btn_run = widgets.Button(description='Classify')\n",
        "btn_run"
      ],
      "execution_count": 25,
      "outputs": [
        {
          "output_type": "display_data",
          "data": {
            "application/vnd.jupyter.widget-view+json": {
              "model_id": "b00af4064e984763b1379c9ab181a702",
              "version_minor": 0,
              "version_major": 2
            },
            "text/plain": [
              "Button(description='Classify', style=ButtonStyle())"
            ]
          },
          "metadata": {
            "tags": []
          }
        },
        {
          "output_type": "display_data",
          "data": {
            "text/html": [
              ""
            ],
            "text/plain": [
              "<IPython.core.display.HTML object>"
            ]
          },
          "metadata": {
            "tags": []
          }
        },
        {
          "output_type": "display_data",
          "data": {
            "text/html": [
              ""
            ],
            "text/plain": [
              "<IPython.core.display.HTML object>"
            ]
          },
          "metadata": {
            "tags": []
          }
        }
      ]
    },
    {
      "cell_type": "code",
      "metadata": {
        "id": "44a6Hrgb5guL",
        "colab_type": "code",
        "colab": {}
      },
      "source": [
        "def on_click_classify(change):\n",
        "    img = PILImage.create(btn_upload.data[-1])\n",
        "    out_pl.clear_output()\n",
        "    with out_pl: display(img.to_thumb(128,128))\n",
        "    pred,pred_idx,probs = learn.predict(img)\n",
        "    lbl_pred.value = f'Prediction: {pred}; Probability: {probs[pred_idx]:.04f}'\n",
        "\n",
        "btn_run.on_click(on_click_classify)"
      ],
      "execution_count": 26,
      "outputs": []
    },
    {
      "cell_type": "code",
      "metadata": {
        "id": "8RtmjzkK5ugH",
        "colab_type": "code",
        "colab": {}
      },
      "source": [
        "btn_upload = widgets.FileUpload()"
      ],
      "execution_count": 27,
      "outputs": []
    },
    {
      "cell_type": "code",
      "metadata": {
        "id": "dfDJDuYx5xAj",
        "colab_type": "code",
        "colab": {
          "base_uri": "https://localhost:8080/",
          "height": 273,
          "referenced_widgets": [
            "41d26e579de14cd794f6a3cdf58a7588",
            "112debf38d3348848cc54fec3f95b242",
            "5718f5cec9cb458496b86db554c44db5",
            "d86d25ea367f4451b4e875e99e378f3e",
            "b00af4064e984763b1379c9ab181a702",
            "104768ef66414fd4ae1be2126cb3ad49",
            "27b55ded68ee44458076d78e8e1c5c90",
            "c9f87eec89634a198d42cd46ffc07c83",
            "ca0699c1c7bd484596217277ddb4e767",
            "f40b1cc64ae4429a8e0cc02ce35e1b23",
            "6d17748ee64b4510aff2a6205793745a",
            "f145028738394b8eb175b32466583771",
            "2c68185264404a63bb0d8982c7cd36dc",
            "bf0e075971a24a209da5c0481fa0e468",
            "10116f62abdc4695a62d77ff86a48253",
            "c90464d862b947309a8f0295770a9ad2"
          ]
        },
        "outputId": "7135c05c-6931-450c-970c-9ea7931b67a8"
      },
      "source": [
        "VBox([widgets.Label('Select your pet!'), \n",
        "      btn_upload, btn_run, out_pl, lbl_pred])"
      ],
      "execution_count": 28,
      "outputs": [
        {
          "output_type": "display_data",
          "data": {
            "application/vnd.jupyter.widget-view+json": {
              "model_id": "41d26e579de14cd794f6a3cdf58a7588",
              "version_minor": 0,
              "version_major": 2
            },
            "text/plain": [
              "VBox(children=(Label(value='Select your pet!'), FileUpload(value={}, description='Upload'), Button(description…"
            ]
          },
          "metadata": {
            "tags": []
          }
        },
        {
          "output_type": "display_data",
          "data": {
            "text/html": [
              ""
            ],
            "text/plain": [
              "<IPython.core.display.HTML object>"
            ]
          },
          "metadata": {
            "tags": []
          }
        },
        {
          "output_type": "display_data",
          "data": {
            "text/html": [
              ""
            ],
            "text/plain": [
              "<IPython.core.display.HTML object>"
            ]
          },
          "metadata": {
            "tags": []
          }
        },
        {
          "output_type": "display_data",
          "data": {
            "text/html": [
              ""
            ],
            "text/plain": [
              "<IPython.core.display.HTML object>"
            ]
          },
          "metadata": {
            "tags": []
          }
        },
        {
          "output_type": "display_data",
          "data": {
            "text/html": [
              ""
            ],
            "text/plain": [
              "<IPython.core.display.HTML object>"
            ]
          },
          "metadata": {
            "tags": []
          }
        }
      ]
    },
    {
      "cell_type": "code",
      "metadata": {
        "id": "1SLzFkE06t6d",
        "colab_type": "code",
        "colab": {
          "base_uri": "https://localhost:8080/",
          "height": 1000
        },
        "outputId": "7e6029c0-d585-4a35-d325-879d6da16898"
      },
      "source": [
        "!pip install voila\n",
        "!jupyter serverextension enable voila —sys-prefix"
      ],
      "execution_count": 29,
      "outputs": [
        {
          "output_type": "stream",
          "text": [
            "Collecting voila\n",
            "\u001b[?25l  Downloading https://files.pythonhosted.org/packages/07/60/501e226f629976acc147d3f71951fe01232a2702c014945327467a9ddb14/voila-0.1.22-py3-none-any.whl (5.9MB)\n",
            "\u001b[K     |████████████████████████████████| 5.9MB 7.2MB/s \n",
            "\u001b[?25hRequirement already satisfied: nbconvert<6,>=5.5.0 in /usr/local/lib/python3.6/dist-packages (from voila) (5.6.1)\n",
            "Collecting pygments<3,>=2.4.1\n",
            "\u001b[?25l  Downloading https://files.pythonhosted.org/packages/2d/68/106af3ae51daf807e9cdcba6a90e518954eb8b70341cee52995540a53ead/Pygments-2.6.1-py3-none-any.whl (914kB)\n",
            "\u001b[K     |████████████████████████████████| 921kB 46.2MB/s \n",
            "\u001b[?25hCollecting jupyter-server<0.2.0,>=0.1.0\n",
            "\u001b[?25l  Downloading https://files.pythonhosted.org/packages/0f/9e/4b5bddfbab2f56b561b672d04c300d6c2d4b3f2c7c99e7935892104f2efa/jupyter_server-0.1.1-py2.py3-none-any.whl (183kB)\n",
            "\u001b[K     |████████████████████████████████| 184kB 47.8MB/s \n",
            "\u001b[?25hCollecting jupyterlab-pygments<0.2,>=0.1.0\n",
            "  Downloading https://files.pythonhosted.org/packages/1f/4c/905faabb03f56ba92b1b9049436afead02bc09aae7e8f0d1107ebb46b151/jupyterlab_pygments-0.1.1-py2.py3-none-any.whl\n",
            "Collecting async-generator\n",
            "  Downloading https://files.pythonhosted.org/packages/71/52/39d20e03abd0ac9159c162ec24b93fbcaa111e8400308f2465432495ca2b/async_generator-1.10-py3-none-any.whl\n",
            "Requirement already satisfied: jinja2>=2.4 in /usr/local/lib/python3.6/dist-packages (from nbconvert<6,>=5.5.0->voila) (2.11.2)\n",
            "Requirement already satisfied: pandocfilters>=1.4.1 in /usr/local/lib/python3.6/dist-packages (from nbconvert<6,>=5.5.0->voila) (1.4.2)\n",
            "Requirement already satisfied: jupyter-core in /usr/local/lib/python3.6/dist-packages (from nbconvert<6,>=5.5.0->voila) (4.6.3)\n",
            "Requirement already satisfied: traitlets>=4.2 in /usr/local/lib/python3.6/dist-packages (from nbconvert<6,>=5.5.0->voila) (4.3.3)\n",
            "Requirement already satisfied: mistune<2,>=0.8.1 in /usr/local/lib/python3.6/dist-packages (from nbconvert<6,>=5.5.0->voila) (0.8.4)\n",
            "Requirement already satisfied: testpath in /usr/local/lib/python3.6/dist-packages (from nbconvert<6,>=5.5.0->voila) (0.4.4)\n",
            "Requirement already satisfied: nbformat>=4.4 in /usr/local/lib/python3.6/dist-packages (from nbconvert<6,>=5.5.0->voila) (5.0.7)\n",
            "Requirement already satisfied: defusedxml in /usr/local/lib/python3.6/dist-packages (from nbconvert<6,>=5.5.0->voila) (0.6.0)\n",
            "Requirement already satisfied: bleach in /usr/local/lib/python3.6/dist-packages (from nbconvert<6,>=5.5.0->voila) (3.1.5)\n",
            "Requirement already satisfied: entrypoints>=0.2.2 in /usr/local/lib/python3.6/dist-packages (from nbconvert<6,>=5.5.0->voila) (0.3)\n",
            "Requirement already satisfied: tornado>=4 in /usr/local/lib/python3.6/dist-packages (from jupyter-server<0.2.0,>=0.1.0->voila) (5.1.1)\n",
            "Requirement already satisfied: ipython-genutils in /usr/local/lib/python3.6/dist-packages (from jupyter-server<0.2.0,>=0.1.0->voila) (0.2.0)\n",
            "Requirement already satisfied: terminado>=0.8.1 in /usr/local/lib/python3.6/dist-packages (from jupyter-server<0.2.0,>=0.1.0->voila) (0.8.3)\n",
            "Requirement already satisfied: pyzmq>=17 in /usr/local/lib/python3.6/dist-packages (from jupyter-server<0.2.0,>=0.1.0->voila) (19.0.2)\n",
            "Requirement already satisfied: ipykernel in /usr/local/lib/python3.6/dist-packages (from jupyter-server<0.2.0,>=0.1.0->voila) (4.10.1)\n",
            "Requirement already satisfied: prometheus-client in /usr/local/lib/python3.6/dist-packages (from jupyter-server<0.2.0,>=0.1.0->voila) (0.8.0)\n",
            "Requirement already satisfied: jupyter-client>=5.3.1 in /usr/local/lib/python3.6/dist-packages (from jupyter-server<0.2.0,>=0.1.0->voila) (5.3.5)\n",
            "Requirement already satisfied: Send2Trash in /usr/local/lib/python3.6/dist-packages (from jupyter-server<0.2.0,>=0.1.0->voila) (1.5.0)\n",
            "Requirement already satisfied: MarkupSafe>=0.23 in /usr/local/lib/python3.6/dist-packages (from jinja2>=2.4->nbconvert<6,>=5.5.0->voila) (1.1.1)\n",
            "Requirement already satisfied: decorator in /usr/local/lib/python3.6/dist-packages (from traitlets>=4.2->nbconvert<6,>=5.5.0->voila) (4.4.2)\n",
            "Requirement already satisfied: six in /usr/local/lib/python3.6/dist-packages (from traitlets>=4.2->nbconvert<6,>=5.5.0->voila) (1.15.0)\n",
            "Requirement already satisfied: jsonschema!=2.5.0,>=2.4 in /usr/local/lib/python3.6/dist-packages (from nbformat>=4.4->nbconvert<6,>=5.5.0->voila) (2.6.0)\n",
            "Requirement already satisfied: packaging in /usr/local/lib/python3.6/dist-packages (from bleach->nbconvert<6,>=5.5.0->voila) (20.4)\n",
            "Requirement already satisfied: webencodings in /usr/local/lib/python3.6/dist-packages (from bleach->nbconvert<6,>=5.5.0->voila) (0.5.1)\n",
            "Requirement already satisfied: ptyprocess; os_name != \"nt\" in /usr/local/lib/python3.6/dist-packages (from terminado>=0.8.1->jupyter-server<0.2.0,>=0.1.0->voila) (0.6.0)\n",
            "Requirement already satisfied: ipython>=4.0.0 in /usr/local/lib/python3.6/dist-packages (from ipykernel->jupyter-server<0.2.0,>=0.1.0->voila) (5.5.0)\n",
            "Requirement already satisfied: python-dateutil>=2.1 in /usr/local/lib/python3.6/dist-packages (from jupyter-client>=5.3.1->jupyter-server<0.2.0,>=0.1.0->voila) (2.8.1)\n",
            "Requirement already satisfied: pyparsing>=2.0.2 in /usr/local/lib/python3.6/dist-packages (from packaging->bleach->nbconvert<6,>=5.5.0->voila) (2.4.7)\n",
            "Requirement already satisfied: pexpect; sys_platform != \"win32\" in /usr/local/lib/python3.6/dist-packages (from ipython>=4.0.0->ipykernel->jupyter-server<0.2.0,>=0.1.0->voila) (4.8.0)\n",
            "Requirement already satisfied: prompt-toolkit<2.0.0,>=1.0.4 in /usr/local/lib/python3.6/dist-packages (from ipython>=4.0.0->ipykernel->jupyter-server<0.2.0,>=0.1.0->voila) (1.0.18)\n",
            "Requirement already satisfied: setuptools>=18.5 in /usr/local/lib/python3.6/dist-packages (from ipython>=4.0.0->ipykernel->jupyter-server<0.2.0,>=0.1.0->voila) (49.2.0)\n",
            "Requirement already satisfied: pickleshare in /usr/local/lib/python3.6/dist-packages (from ipython>=4.0.0->ipykernel->jupyter-server<0.2.0,>=0.1.0->voila) (0.7.5)\n",
            "Requirement already satisfied: simplegeneric>0.8 in /usr/local/lib/python3.6/dist-packages (from ipython>=4.0.0->ipykernel->jupyter-server<0.2.0,>=0.1.0->voila) (0.8.1)\n",
            "Requirement already satisfied: wcwidth in /usr/local/lib/python3.6/dist-packages (from prompt-toolkit<2.0.0,>=1.0.4->ipython>=4.0.0->ipykernel->jupyter-server<0.2.0,>=0.1.0->voila) (0.2.5)\n",
            "\u001b[31mERROR: datascience 0.10.6 has requirement folium==0.2.1, but you'll have folium 0.8.3 which is incompatible.\u001b[0m\n",
            "Installing collected packages: pygments, jupyter-server, jupyterlab-pygments, async-generator, voila\n",
            "  Found existing installation: Pygments 2.1.3\n",
            "    Uninstalling Pygments-2.1.3:\n",
            "      Successfully uninstalled Pygments-2.1.3\n",
            "Successfully installed async-generator-1.10 jupyter-server-0.1.1 jupyterlab-pygments-0.1.1 pygments-2.6.1 voila-0.1.22\n"
          ],
          "name": "stdout"
        },
        {
          "output_type": "display_data",
          "data": {
            "application/vnd.colab-display-data+json": {
              "pip_warning": {
                "packages": [
                  "pygments"
                ]
              }
            }
          },
          "metadata": {
            "tags": []
          }
        },
        {
          "output_type": "stream",
          "text": [
            "Enabling: voila\n",
            "- Writing config: /root/.jupyter\n",
            "    - Validating...\n",
            "Error loading server extension voila\n",
            "     \u001b[31m X\u001b[0m is voila importable?\n",
            "Enabling: —sys-prefix\n",
            "- Writing config: /root/.jupyter\n",
            "    - Validating...\n",
            "Error loading server extension —sys-prefix\n",
            "     \u001b[31m X\u001b[0m is —sys-prefix importable?\n"
          ],
          "name": "stdout"
        }
      ]
    }
  ]
}